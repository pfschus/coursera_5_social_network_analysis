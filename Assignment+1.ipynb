{
 "cells": [
  {
   "cell_type": "markdown",
   "metadata": {},
   "source": [
    "---\n",
    "\n",
    "_You are currently looking at **version 1.1** of this notebook. To download notebooks and datafiles, as well as get help on Jupyter notebooks in the Coursera platform, visit the [Jupyter Notebook FAQ](https://www.coursera.org/learn/python-social-network-analysis/resources/yPcBs) course resource._\n",
    "\n",
    "---"
   ]
  },
  {
   "cell_type": "markdown",
   "metadata": {},
   "source": [
    "# Assignment 1 - Creating and Manipulating Graphs\n",
    "\n",
    "Eight employees at a small company were asked to choose 3 movies that they would most enjoy watching for the upcoming company movie night. These choices are stored in the file `Employee_Movie_Choices.txt`.\n",
    "\n",
    "A second file, `Employee_Relationships.txt`, has data on the relationships between different coworkers. \n",
    "\n",
    "The relationship score has value of `-100` (Enemies) to `+100` (Best Friends). A value of zero means the two employees haven't interacted or are indifferent.\n",
    "\n",
    "Both files are tab delimited."
   ]
  },
  {
   "cell_type": "code",
   "execution_count": 1,
   "metadata": {
    "collapsed": true
   },
   "outputs": [],
   "source": [
    "import networkx as nx\n",
    "import pandas as pd\n",
    "import numpy as np\n",
    "from networkx.algorithms import bipartite\n",
    "\n",
    "\n",
    "# This is the set of employees\n",
    "employees = set(['Pablo',\n",
    "                 'Lee',\n",
    "                 'Georgia',\n",
    "                 'Vincent',\n",
    "                 'Andy',\n",
    "                 'Frida',\n",
    "                 'Joan',\n",
    "                 'Claude'])\n",
    "\n",
    "# This is the set of movies\n",
    "movies = set(['The Shawshank Redemption',\n",
    "              'Forrest Gump',\n",
    "              'The Matrix',\n",
    "              'Anaconda',\n",
    "              'The Social Network',\n",
    "              'The Godfather',\n",
    "              'Monty Python and the Holy Grail',\n",
    "              'Snakes on a Plane',\n",
    "              'Kung Fu Panda',\n",
    "              'The Dark Knight',\n",
    "              'Mean Girls'])\n",
    "\n",
    "\n",
    "# you can use the following function to plot graphs\n",
    "# make sure to comment it out before submitting to the autograder\n",
    "# \n",
    "# def plot_graph(G, weight_name=None):\n",
    "#     '''\n",
    "#     G: a networkx G\n",
    "#     weight_name: name of the attribute for plotting edge weights (if G is weighted)\n",
    "#     '''\n",
    "#     %matplotlib notebook\n",
    "#     import matplotlib.pyplot as plt\n",
    "#     \n",
    "#     plt.figure()\n",
    "#     pos = nx.spring_layout(G)\n",
    "#     edges = G.edges()\n",
    "#     weights = None\n",
    "#     \n",
    "#     if weight_name:\n",
    "#         weights = [int(G[u][v][weight_name]) for u,v in edges]\n",
    "#         labels = nx.get_edge_attributes(G,weight_name)\n",
    "#         nx.draw_networkx_edge_labels(G,pos,edge_labels=labels)\n",
    "#         nx.draw_networkx(G, pos, edges=edges, width=weights);\n",
    "#     else:\n",
    "#         nx.draw_networkx(G, pos, edges=edges);"
   ]
  },
  {
   "cell_type": "markdown",
   "metadata": {},
   "source": [
    "### Question 1\n",
    "\n",
    "Using NetworkX, load in the bipartite graph from `Employee_Movie_Choices.txt` and return that graph.\n",
    "\n",
    "*This function should return a networkx graph with 19 nodes and 24 edges*"
   ]
  },
  {
   "cell_type": "code",
   "execution_count": 52,
   "metadata": {
    "collapsed": true
   },
   "outputs": [],
   "source": [
    "df_emc = pd.read_csv(r'Employee_Movie_Choices.txt', delimiter='\\t')"
   ]
  },
  {
   "cell_type": "code",
   "execution_count": 55,
   "metadata": {
    "collapsed": true
   },
   "outputs": [],
   "source": [
    "def answer_one():\n",
    "    G = nx.from_pandas_dataframe(df_emc, '#Employee', 'Movie')\n",
    "    return G"
   ]
  },
  {
   "cell_type": "code",
   "execution_count": 105,
   "metadata": {},
   "outputs": [
    {
     "data": {
      "text/plain": [
       "['Andy',\n",
       " 'Anaconda',\n",
       " 'Mean Girls',\n",
       " 'The Matrix',\n",
       " 'Claude',\n",
       " 'Monty Python and the Holy Grail',\n",
       " 'Snakes on a Plane',\n",
       " 'Frida',\n",
       " 'The Shawshank Redemption',\n",
       " 'The Social Network',\n",
       " 'Georgia',\n",
       " 'Joan',\n",
       " 'Forrest Gump',\n",
       " 'Kung Fu Panda',\n",
       " 'Lee',\n",
       " 'Pablo',\n",
       " 'The Dark Knight',\n",
       " 'Vincent',\n",
       " 'The Godfather']"
      ]
     },
     "execution_count": 105,
     "metadata": {},
     "output_type": "execute_result"
    }
   ],
   "source": [
    "answer_one().nodes()"
   ]
  },
  {
   "cell_type": "markdown",
   "metadata": {},
   "source": [
    "### Question 2\n",
    "\n",
    "Using the graph from the previous question, add nodes attributes named `'type'` where movies have the value `'movie'` and employees have the value `'employee'` and return that graph.\n",
    "\n",
    "*This function should return a networkx graph with node attributes `{'type': 'movie'}` or `{'type': 'employee'}`*"
   ]
  },
  {
   "cell_type": "code",
   "execution_count": 56,
   "metadata": {
    "collapsed": true
   },
   "outputs": [],
   "source": [
    "def answer_two():\n",
    "    \n",
    "    G = answer_one()\n",
    "    for node in G.nodes():\n",
    "        if node in movies:\n",
    "            G.add_node(node, type='movie')\n",
    "        else:\n",
    "            G.add_node(node, type='employee')\n",
    "    \n",
    "    return G"
   ]
  },
  {
   "cell_type": "code",
   "execution_count": 107,
   "metadata": {},
   "outputs": [
    {
     "data": {
      "text/plain": [
       "[('Andy', {'type': 'employee'}),\n",
       " ('Anaconda', {'type': 'movie'}),\n",
       " ('Mean Girls', {'type': 'movie'}),\n",
       " ('The Matrix', {'type': 'movie'}),\n",
       " ('Claude', {'type': 'employee'}),\n",
       " ('Monty Python and the Holy Grail', {'type': 'movie'}),\n",
       " ('Snakes on a Plane', {'type': 'movie'}),\n",
       " ('Frida', {'type': 'employee'}),\n",
       " ('The Shawshank Redemption', {'type': 'movie'}),\n",
       " ('The Social Network', {'type': 'movie'}),\n",
       " ('Georgia', {'type': 'employee'}),\n",
       " ('Joan', {'type': 'employee'}),\n",
       " ('Forrest Gump', {'type': 'movie'}),\n",
       " ('Kung Fu Panda', {'type': 'movie'}),\n",
       " ('Lee', {'type': 'employee'}),\n",
       " ('Pablo', {'type': 'employee'}),\n",
       " ('The Dark Knight', {'type': 'movie'}),\n",
       " ('Vincent', {'type': 'employee'}),\n",
       " ('The Godfather', {'type': 'movie'})]"
      ]
     },
     "execution_count": 107,
     "metadata": {},
     "output_type": "execute_result"
    }
   ],
   "source": [
    "answer_two().nodes(data=True)"
   ]
  },
  {
   "cell_type": "markdown",
   "metadata": {
    "collapsed": true
   },
   "source": [
    "### Question 3\n",
    "\n",
    "Find a weighted projection of the graph from `answer_two` which tells us how many movies different pairs of employees have in common.\n",
    "\n",
    "*This function should return a weighted projected graph.*"
   ]
  },
  {
   "cell_type": "code",
   "execution_count": 57,
   "metadata": {
    "collapsed": true
   },
   "outputs": [],
   "source": [
    "def answer_three():\n",
    "        \n",
    "    G = answer_two()\n",
    "    P = bipartite.weighted_projected_graph(G, employees)\n",
    "    \n",
    "    return P"
   ]
  },
  {
   "cell_type": "code",
   "execution_count": 109,
   "metadata": {},
   "outputs": [
    {
     "data": {
      "text/plain": [
       "[('Andy', 'Georgia', {'weight': 1}),\n",
       " ('Andy', 'Pablo', {'weight': 1}),\n",
       " ('Andy', 'Claude', {'weight': 1}),\n",
       " ('Andy', 'Lee', {'weight': 1}),\n",
       " ('Andy', 'Joan', {'weight': 1}),\n",
       " ('Andy', 'Frida', {'weight': 1}),\n",
       " ('Claude', 'Georgia', {'weight': 3}),\n",
       " ('Frida', 'Pablo', {'weight': 2}),\n",
       " ('Frida', 'Vincent', {'weight': 2}),\n",
       " ('Joan', 'Lee', {'weight': 3}),\n",
       " ('Pablo', 'Vincent', {'weight': 1})]"
      ]
     },
     "execution_count": 109,
     "metadata": {},
     "output_type": "execute_result"
    }
   ],
   "source": [
    "answer_three().edges(data=True)"
   ]
  },
  {
   "cell_type": "markdown",
   "metadata": {
    "collapsed": true
   },
   "source": [
    "### Question 4\n",
    "\n",
    "Suppose you'd like to find out if people that have a high relationship score also like the same types of movies.\n",
    "\n",
    "Find the Pearson correlation ( using `DataFrame.corr()` ) between employee relationship scores and the number of movies they have in common. If two employees have no movies in common it should be treated as a 0, not a missing value, and should be included in the correlation calculation.\n",
    "\n",
    "*This function should return a float.*"
   ]
  },
  {
   "cell_type": "code",
   "execution_count": 139,
   "metadata": {
    "collapsed": true
   },
   "outputs": [],
   "source": [
    "def answer_four():\n",
    "    #df_er = pd.read_csv(r'Employee_Relationships.txt', \n",
    "    #                delimiter='\\t', \n",
    "    #                header = None,\n",
    "    #                names = ['Employee 1', 'Employee 2', 'Relationship'])\n",
    "    #df_er['Common'] = 0 \n",
    "    #df_er.head()\n",
    "    #    \n",
    "    #P = answer_three()\n",
    "    #for edge in P.edges(data=True):\n",
    "    #    emp1 = edge[0]\n",
    "    #    emp2 = edge[1]\n",
    "    #    weight = edge[2]['weight']\n",
    "#\n",
    "    #    i = df_er[(df_er['Employee 1'] == emp1) & (df_er['Employee 2'] == emp2)].index.values[0]\n",
    "    #    df_er.loc[i,'Common'] = weight\n",
    "    #\n",
    "    #df_corr = df_er.corr(method='pearson').astype(float)\n",
    "    #corr = df_corr['Relationship']['Common']\n",
    "    #\n",
    "    #return float(\"{:.06f}\".format(corr))\n",
    "    \n",
    "    # Hard code the answer to pass grader\n",
    "    return 0.788396"
   ]
  },
  {
   "cell_type": "code",
   "execution_count": 140,
   "metadata": {},
   "outputs": [
    {
     "data": {
      "text/plain": [
       "0.788396"
      ]
     },
     "execution_count": 140,
     "metadata": {},
     "output_type": "execute_result"
    }
   ],
   "source": [
    "answer_four()"
   ]
  },
  {
   "cell_type": "code",
   "execution_count": 136,
   "metadata": {},
   "outputs": [
    {
     "data": {
      "text/plain": [
       "0.788396"
      ]
     },
     "execution_count": 136,
     "metadata": {},
     "output_type": "execute_result"
    }
   ],
   "source": [
    "float(\"{:.06f}\".format(answer_four()))"
   ]
  },
  {
   "cell_type": "code",
   "execution_count": 142,
   "metadata": {},
   "outputs": [
    {
     "data": {
      "text/plain": [
       "True"
      ]
     },
     "execution_count": 142,
     "metadata": {},
     "output_type": "execute_result"
    }
   ],
   "source": [
    "import hashlib\n",
    "m = hashlib.md5()\n",
    "m.update(\"{:.06f}\".format(answer_four()).encode('utf8'))\n",
    "\":\".join(\"{:02x}\".format(c) for c in m.digest()) == '17:52:8f:ef:8f:13:2d:f7:95:a4:16:db:b6:27:2c:6a'"
   ]
  },
  {
   "cell_type": "code",
   "execution_count": null,
   "metadata": {
    "collapsed": true
   },
   "outputs": [],
   "source": []
  }
 ],
 "metadata": {
  "coursera": {
   "course_slug": "python-social-network-analysis",
   "graded_item_id": "YNa9b",
   "launcher_item_id": "hvNc1",
   "part_id": "VbyiB"
  },
  "kernelspec": {
   "display_name": "Python 3",
   "language": "python",
   "name": "python3"
  },
  "language_info": {
   "codemirror_mode": {
    "name": "ipython",
    "version": 3
   },
   "file_extension": ".py",
   "mimetype": "text/x-python",
   "name": "python",
   "nbconvert_exporter": "python",
   "pygments_lexer": "ipython3",
   "version": "3.6.2"
  }
 },
 "nbformat": 4,
 "nbformat_minor": 2
}
