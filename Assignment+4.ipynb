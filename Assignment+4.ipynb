{
 "cells": [
  {
   "cell_type": "markdown",
   "metadata": {},
   "source": [
    "---\n",
    "\n",
    "_You are currently looking at **version 1.2** of this notebook. To download notebooks and datafiles, as well as get help on Jupyter notebooks in the Coursera platform, visit the [Jupyter Notebook FAQ](https://www.coursera.org/learn/python-social-network-analysis/resources/yPcBs) course resource._\n",
    "\n",
    "---"
   ]
  },
  {
   "cell_type": "markdown",
   "metadata": {},
   "source": [
    "# Assignment 4"
   ]
  },
  {
   "cell_type": "code",
   "execution_count": 1,
   "metadata": {
    "collapsed": true
   },
   "outputs": [],
   "source": [
    "import networkx as nx\n",
    "import pandas as pd\n",
    "import numpy as np\n",
    "import pickle\n",
    "\n",
    "# Plotting with matplotlib kills the grader, so here is a flag to turn it off for submissions\n",
    "plot_flag = False\n",
    "if plot_flag: \n",
    "    import matplotlib.pyplot as plt\n",
    "    import seaborn as sns"
   ]
  },
  {
   "cell_type": "code",
   "execution_count": 2,
   "metadata": {
    "collapsed": true
   },
   "outputs": [],
   "source": [
    "def degree_dist(G, plot_flag = 1, title_text = 'Degree Distribution'):\n",
    "    degrees = dict(G.degree())\n",
    "    degree_values = sorted(set(degrees.values()))\n",
    "    \n",
    "    histogram = [list(dict(degrees).values()).count(i)/\n",
    "             float(nx.number_of_nodes(G))\n",
    "             for i in degree_values]\n",
    "    \n",
    "    if plot_flag:\n",
    "        \n",
    "        plt.bar(degree_values, histogram)\n",
    "        plt.xlabel('Degree')\n",
    "        plt.ylabel('Fraction of nodes')\n",
    "        plt.title(title_text)\n",
    "        plt.show()\n",
    "    \n",
    "    return degree_values, histogram"
   ]
  },
  {
   "cell_type": "markdown",
   "metadata": {},
   "source": [
    "---\n",
    "\n",
    "## Part 1 - Random Graph Identification\n",
    "\n",
    "For the first part of this assignment you will analyze randomly generated graphs and determine which algorithm created them."
   ]
  },
  {
   "cell_type": "code",
   "execution_count": 3,
   "metadata": {},
   "outputs": [
    {
     "data": {
      "text/plain": [
       "[<networkx.classes.graph.Graph at 0x7f316aebea20>,\n",
       " <networkx.classes.graph.Graph at 0x7f316aebeb38>,\n",
       " <networkx.classes.graph.Graph at 0x7f319812e5f8>,\n",
       " <networkx.classes.graph.Graph at 0x7f319812ecc0>,\n",
       " <networkx.classes.graph.Graph at 0x7f319812ee10>]"
      ]
     },
     "execution_count": 3,
     "metadata": {},
     "output_type": "execute_result"
    }
   ],
   "source": [
    "P1_Graphs = pickle.load(open('A4_graphs','rb'))\n",
    "P1_Graphs"
   ]
  },
  {
   "cell_type": "markdown",
   "metadata": {},
   "source": [
    "## Calculate a few things\n",
    "\n",
    "Explore these graphs. What is going to be useful? \n",
    "\n",
    "* Average path length    \n",
    "* Average clustering coefficient\n",
    "* Degree distribution"
   ]
  },
  {
   "cell_type": "code",
   "execution_count": 4,
   "metadata": {},
   "outputs": [
    {
     "data": {
      "text/plain": [
       "[4.099161161161161,\n",
       " 5.089871871871872,\n",
       " 9.378702269692925,\n",
       " 3.1048046283934134,\n",
       " 5.0785509568313305]"
      ]
     },
     "execution_count": 4,
     "metadata": {},
     "output_type": "execute_result"
    }
   ],
   "source": [
    "avg_paths = [nx.average_shortest_path_length(G) for G in P1_Graphs]\n",
    "avg_paths"
   ]
  },
  {
   "cell_type": "code",
   "execution_count": 5,
   "metadata": {},
   "outputs": [
    {
     "data": {
      "text/plain": [
       "[0.03167539146454044,\n",
       " 0.5642419635919628,\n",
       " 0.4018222222222227,\n",
       " 0.03780379975223251,\n",
       " 0.0033037037037037037]"
      ]
     },
     "execution_count": 5,
     "metadata": {},
     "output_type": "execute_result"
    }
   ],
   "source": [
    "avg_clust = [nx.average_clustering(G) for G in P1_Graphs]\n",
    "avg_clust"
   ]
  },
  {
   "cell_type": "code",
   "execution_count": 6,
   "metadata": {},
   "outputs": [
    {
     "data": {
      "text/html": [
       "<div>\n",
       "<style>\n",
       "    .dataframe thead tr:only-child th {\n",
       "        text-align: right;\n",
       "    }\n",
       "\n",
       "    .dataframe thead th {\n",
       "        text-align: left;\n",
       "    }\n",
       "\n",
       "    .dataframe tbody tr th {\n",
       "        vertical-align: top;\n",
       "    }\n",
       "</style>\n",
       "<table border=\"1\" class=\"dataframe\">\n",
       "  <thead>\n",
       "    <tr style=\"text-align: right;\">\n",
       "      <th></th>\n",
       "      <th>avg_clust</th>\n",
       "      <th>avg_paths</th>\n",
       "      <th>index</th>\n",
       "    </tr>\n",
       "  </thead>\n",
       "  <tbody>\n",
       "    <tr>\n",
       "      <th>0</th>\n",
       "      <td>0.031675</td>\n",
       "      <td>4.099161</td>\n",
       "      <td>0</td>\n",
       "    </tr>\n",
       "    <tr>\n",
       "      <th>1</th>\n",
       "      <td>0.564242</td>\n",
       "      <td>5.089872</td>\n",
       "      <td>1</td>\n",
       "    </tr>\n",
       "    <tr>\n",
       "      <th>2</th>\n",
       "      <td>0.401822</td>\n",
       "      <td>9.378702</td>\n",
       "      <td>2</td>\n",
       "    </tr>\n",
       "    <tr>\n",
       "      <th>3</th>\n",
       "      <td>0.037804</td>\n",
       "      <td>3.104805</td>\n",
       "      <td>3</td>\n",
       "    </tr>\n",
       "    <tr>\n",
       "      <th>4</th>\n",
       "      <td>0.003304</td>\n",
       "      <td>5.078551</td>\n",
       "      <td>4</td>\n",
       "    </tr>\n",
       "  </tbody>\n",
       "</table>\n",
       "</div>"
      ],
      "text/plain": [
       "   avg_clust  avg_paths  index\n",
       "0   0.031675   4.099161      0\n",
       "1   0.564242   5.089872      1\n",
       "2   0.401822   9.378702      2\n",
       "3   0.037804   3.104805      3\n",
       "4   0.003304   5.078551      4"
      ]
     },
     "execution_count": 6,
     "metadata": {},
     "output_type": "execute_result"
    }
   ],
   "source": [
    "avg_df = pd.DataFrame(data={'avg_paths':avg_paths,\n",
    "                            'avg_clust':avg_clust,\n",
    "                            'index':np.arange(5)})\n",
    "avg_df"
   ]
  },
  {
   "cell_type": "code",
   "execution_count": 7,
   "metadata": {
    "collapsed": true
   },
   "outputs": [],
   "source": [
    "if plot_flag:\n",
    "    plt.plot(avg_paths, avg_clust, 'o')\n",
    "    for idx, row in avg_df.iterrows():\n",
    "        plt.text(row[\"avg_paths\"]+.1, row[\"avg_clust\"], '{}'.format(row[\"index\"]))\n",
    "    plt.xlabel('Average path length');\n",
    "    plt.ylabel('Average clustering coefficient')\n",
    "    plt.show()"
   ]
  },
  {
   "cell_type": "code",
   "execution_count": 8,
   "metadata": {
    "collapsed": true
   },
   "outputs": [],
   "source": [
    "index_counter = 0\n",
    "histogram_list = []\n",
    "degree_values_list = []\n",
    "for G in P1_Graphs:\n",
    "    degree_values, histogram = degree_dist(G, \n",
    "                                           plot_flag = plot_flag,\n",
    "                                           title_text = 'Degree Distribution for {}'.format(index_counter))\n",
    "    index_counter += 1\n",
    "    \n",
    "    degree_values_list.append(degree_values)\n",
    "    histogram_list.append(histogram)"
   ]
  },
  {
   "cell_type": "markdown",
   "metadata": {},
   "source": [
    "`P1_Graphs` is a list containing 5 networkx graphs. Each of these graphs were generated by one of three possible algorithms:\n",
    "\n",
    "* Preferential Attachment (`'PA'`)  \n",
    "    * small shortest path  \n",
    "    * very small clustering coefficient  \n",
    "    * long histogram with a handful of very high degree nodes\n",
    "    * 0 and 3\n",
    "* Small World with low probability of rewiring (`'SW_L'`)    \n",
    "    * Very short paths  \n",
    "    * High clustering coefficient  \n",
    "    * 1 and 2\n",
    "* Small World with high probability of rewiring (`'SW_H'`)   \n",
    "    * Smaller shortest path (rapidly)  \n",
    "    * Smaller average clustering (slowly)  \n",
    "    * 4\n",
    "\n",
    "Anaylze each of the 5 graphs and determine which of the three algorithms generated the graph.\n",
    "\n",
    "*The `graph_identification` function should return a list of length 5 where each element in the list is either `'PA'`, `'SW_L'`, or `'SW_H'`.*"
   ]
  },
  {
   "cell_type": "code",
   "execution_count": 9,
   "metadata": {
    "collapsed": true
   },
   "outputs": [],
   "source": [
    "def graph_identification():\n",
    "    \n",
    "    algorithm_list = []\n",
    "    \n",
    "    for i in range(5):\n",
    "        if len(histogram_list[i]) > 12:\n",
    "            print(i, 'Histogram')\n",
    "            algorithm_list.append('PA')\n",
    "        elif avg_clust[i] < 0.05:\n",
    "            print(i, 'Clust low')\n",
    "            algorithm_list.append('SW_H')\n",
    "        else:\n",
    "            print(i, 'Clust high')\n",
    "            algorithm_list.append('SW_L')\n",
    "    \n",
    "    \n",
    "    return algorithm_list"
   ]
  },
  {
   "cell_type": "code",
   "execution_count": 10,
   "metadata": {},
   "outputs": [
    {
     "name": "stdout",
     "output_type": "stream",
     "text": [
      "0 Histogram\n",
      "1 Clust high\n",
      "2 Clust high\n",
      "3 Histogram\n",
      "4 Clust low\n"
     ]
    },
    {
     "data": {
      "text/plain": [
       "['PA', 'SW_L', 'SW_L', 'PA', 'SW_H']"
      ]
     },
     "execution_count": 10,
     "metadata": {},
     "output_type": "execute_result"
    }
   ],
   "source": [
    "graph_identification()"
   ]
  },
  {
   "cell_type": "markdown",
   "metadata": {},
   "source": [
    "---\n",
    "\n",
    "## Part 2 - Company Emails\n",
    "\n",
    "For the second part of this assignment you will be workking with a company's email network where each node corresponds to a person at the company, and each edge indicates that at least one email has been sent between two people.\n",
    "\n",
    "The network also contains the node attributes `Department` and `ManagementSalary`.\n",
    "\n",
    "`Department` indicates the department in the company which the person belongs to, and `ManagementSalary` indicates whether that person is receiving a management position salary."
   ]
  },
  {
   "cell_type": "code",
   "execution_count": 11,
   "metadata": {},
   "outputs": [
    {
     "name": "stdout",
     "output_type": "stream",
     "text": [
      "Name: \n",
      "Type: Graph\n",
      "Number of nodes: 1005\n",
      "Number of edges: 16706\n",
      "Average degree:  33.2458\n"
     ]
    }
   ],
   "source": [
    "G = nx.read_gpickle('email_prediction.txt')\n",
    "\n",
    "print(nx.info(G))"
   ]
  },
  {
   "cell_type": "markdown",
   "metadata": {},
   "source": [
    "### Part 2A - Salary Prediction\n",
    "\n",
    "* 1a. Using network `G`, identify the people in the network with missing values for the node attribute `ManagementSalary` and  \n",
    "* 1b. Predict whether or not these individuals are receiving a management position salary.  \n",
    "    * To accomplish this, you will need to create a matrix of node features using networkx, train a sklearn classifier on nodes that have `ManagementSalary` data, and predict a probability of the node receiving a management salary for nodes where `ManagementSalary` is missing.\n",
    "    * Your predictions will need to be given as the probability that the corresponding employee is receiving a management position salary.\n",
    "    * The evaluation metric for this assignment is the Area Under the ROC Curve (AUC).\n",
    "\n",
    "Your grade will be based on the AUC score computed for your classifier. A model which with an AUC of 0.88 or higher will receive full points, and with an AUC of 0.82 or higher will pass (get 80% of the full points).\n",
    "\n",
    "Using your trained classifier, return a series of length 252 with the data being the probability of receiving management salary, and the index being the node id.\n",
    "\n",
    "    Example:\n",
    "    \n",
    "        1       1.0\n",
    "        2       0.0\n",
    "        5       0.8\n",
    "        8       1.0\n",
    "            ...\n",
    "        996     0.7\n",
    "        1000    0.5\n",
    "        1001    0.0\n",
    "        Length: 252, dtype: float64"
   ]
  },
  {
   "cell_type": "markdown",
   "metadata": {
    "collapsed": true
   },
   "source": [
    "My notes:\n",
    "\n",
    "Since the final answer is going to be a Series, I'm going to take the hint that I should transform the network data into a pandas DataFrame, where each row is an individual (a node in the graph). Start with initializing a DataFrame and filling it with the attributes assigned to each node. First look at the nodes and see what attributes are assigned to them. "
   ]
  },
  {
   "cell_type": "code",
   "execution_count": 12,
   "metadata": {
    "scrolled": true
   },
   "outputs": [
    {
     "data": {
      "text/plain": [
       "[(0, {'Department': 1, 'ManagementSalary': 0.0}),\n",
       " (1, {'Department': 1, 'ManagementSalary': nan}),\n",
       " (2, {'Department': 21, 'ManagementSalary': nan}),\n",
       " (3, {'Department': 21, 'ManagementSalary': 1.0}),\n",
       " (4, {'Department': 21, 'ManagementSalary': 1.0})]"
      ]
     },
     "execution_count": 12,
     "metadata": {},
     "output_type": "execute_result"
    }
   ],
   "source": [
    "G.nodes(data=True)[:5]"
   ]
  },
  {
   "cell_type": "code",
   "execution_count": 13,
   "metadata": {},
   "outputs": [
    {
     "data": {
      "text/html": [
       "<div>\n",
       "<style>\n",
       "    .dataframe thead tr:only-child th {\n",
       "        text-align: right;\n",
       "    }\n",
       "\n",
       "    .dataframe thead th {\n",
       "        text-align: left;\n",
       "    }\n",
       "\n",
       "    .dataframe tbody tr th {\n",
       "        vertical-align: top;\n",
       "    }\n",
       "</style>\n",
       "<table border=\"1\" class=\"dataframe\">\n",
       "  <thead>\n",
       "    <tr style=\"text-align: right;\">\n",
       "      <th></th>\n",
       "      <th>Department</th>\n",
       "      <th>ManagementSalary</th>\n",
       "    </tr>\n",
       "  </thead>\n",
       "  <tbody>\n",
       "    <tr>\n",
       "      <th>0</th>\n",
       "      <td>1</td>\n",
       "      <td>0.0</td>\n",
       "    </tr>\n",
       "    <tr>\n",
       "      <th>1</th>\n",
       "      <td>1</td>\n",
       "      <td>NaN</td>\n",
       "    </tr>\n",
       "    <tr>\n",
       "      <th>2</th>\n",
       "      <td>21</td>\n",
       "      <td>NaN</td>\n",
       "    </tr>\n",
       "    <tr>\n",
       "      <th>3</th>\n",
       "      <td>21</td>\n",
       "      <td>1.0</td>\n",
       "    </tr>\n",
       "    <tr>\n",
       "      <th>4</th>\n",
       "      <td>21</td>\n",
       "      <td>1.0</td>\n",
       "    </tr>\n",
       "    <tr>\n",
       "      <th>5</th>\n",
       "      <td>25</td>\n",
       "      <td>NaN</td>\n",
       "    </tr>\n",
       "    <tr>\n",
       "      <th>6</th>\n",
       "      <td>25</td>\n",
       "      <td>1.0</td>\n",
       "    </tr>\n",
       "    <tr>\n",
       "      <th>7</th>\n",
       "      <td>14</td>\n",
       "      <td>0.0</td>\n",
       "    </tr>\n",
       "    <tr>\n",
       "      <th>8</th>\n",
       "      <td>14</td>\n",
       "      <td>NaN</td>\n",
       "    </tr>\n",
       "    <tr>\n",
       "      <th>9</th>\n",
       "      <td>14</td>\n",
       "      <td>0.0</td>\n",
       "    </tr>\n",
       "  </tbody>\n",
       "</table>\n",
       "</div>"
      ],
      "text/plain": [
       "   Department  ManagementSalary\n",
       "0           1               0.0\n",
       "1           1               NaN\n",
       "2          21               NaN\n",
       "3          21               1.0\n",
       "4          21               1.0\n",
       "5          25               NaN\n",
       "6          25               1.0\n",
       "7          14               0.0\n",
       "8          14               NaN\n",
       "9          14               0.0"
      ]
     },
     "execution_count": 13,
     "metadata": {},
     "output_type": "execute_result"
    }
   ],
   "source": [
    "G_df = pd.DataFrame(data={'Department':[node[1]['Department'] for node in G.nodes(data=True)],\n",
    "                          'ManagementSalary':[node[1]['ManagementSalary'] for node in G.nodes(data=True)]},\n",
    "                    index=G.nodes())\n",
    "G_df.head(10)"
   ]
  },
  {
   "cell_type": "code",
   "execution_count": 14,
   "metadata": {},
   "outputs": [
    {
     "data": {
      "text/html": [
       "<div>\n",
       "<style>\n",
       "    .dataframe thead tr:only-child th {\n",
       "        text-align: right;\n",
       "    }\n",
       "\n",
       "    .dataframe thead th {\n",
       "        text-align: left;\n",
       "    }\n",
       "\n",
       "    .dataframe tbody tr th {\n",
       "        vertical-align: top;\n",
       "    }\n",
       "</style>\n",
       "<table border=\"1\" class=\"dataframe\">\n",
       "  <thead>\n",
       "    <tr style=\"text-align: right;\">\n",
       "      <th></th>\n",
       "      <th>Department</th>\n",
       "      <th>ManagementSalary</th>\n",
       "    </tr>\n",
       "  </thead>\n",
       "  <tbody>\n",
       "    <tr>\n",
       "      <th>1</th>\n",
       "      <td>1</td>\n",
       "      <td>NaN</td>\n",
       "    </tr>\n",
       "    <tr>\n",
       "      <th>2</th>\n",
       "      <td>21</td>\n",
       "      <td>NaN</td>\n",
       "    </tr>\n",
       "    <tr>\n",
       "      <th>5</th>\n",
       "      <td>25</td>\n",
       "      <td>NaN</td>\n",
       "    </tr>\n",
       "    <tr>\n",
       "      <th>8</th>\n",
       "      <td>14</td>\n",
       "      <td>NaN</td>\n",
       "    </tr>\n",
       "    <tr>\n",
       "      <th>14</th>\n",
       "      <td>4</td>\n",
       "      <td>NaN</td>\n",
       "    </tr>\n",
       "    <tr>\n",
       "      <th>18</th>\n",
       "      <td>1</td>\n",
       "      <td>NaN</td>\n",
       "    </tr>\n",
       "    <tr>\n",
       "      <th>27</th>\n",
       "      <td>11</td>\n",
       "      <td>NaN</td>\n",
       "    </tr>\n",
       "    <tr>\n",
       "      <th>30</th>\n",
       "      <td>11</td>\n",
       "      <td>NaN</td>\n",
       "    </tr>\n",
       "    <tr>\n",
       "      <th>31</th>\n",
       "      <td>11</td>\n",
       "      <td>NaN</td>\n",
       "    </tr>\n",
       "    <tr>\n",
       "      <th>34</th>\n",
       "      <td>11</td>\n",
       "      <td>NaN</td>\n",
       "    </tr>\n",
       "  </tbody>\n",
       "</table>\n",
       "</div>"
      ],
      "text/plain": [
       "    Department  ManagementSalary\n",
       "1            1               NaN\n",
       "2           21               NaN\n",
       "5           25               NaN\n",
       "8           14               NaN\n",
       "14           4               NaN\n",
       "18           1               NaN\n",
       "27          11               NaN\n",
       "30          11               NaN\n",
       "31          11               NaN\n",
       "34          11               NaN"
      ]
     },
     "execution_count": 14,
     "metadata": {},
     "output_type": "execute_result"
    }
   ],
   "source": [
    "# Mask for null entries in ManagementSalary\n",
    "null_mask = G_df['ManagementSalary'].isnull()\n",
    "G_df[null_mask].head(10)"
   ]
  },
  {
   "cell_type": "code",
   "execution_count": 15,
   "metadata": {
    "collapsed": true
   },
   "outputs": [],
   "source": [
    "# Take a look at the number of employees in each department, split by salary info.\n",
    "if plot_flag:\n",
    "    plt.figure(figsize=(15,7))\n",
    "    sns.countplot(x = 'Department', \n",
    "                  hue = 'ManagementSalary',\n",
    "                  data = G_df.fillna(value = 'None'))\n",
    "    plt.show()    "
   ]
  },
  {
   "cell_type": "markdown",
   "metadata": {},
   "source": [
    "I need to generate more features. What else can I use? Look back at content from week 3.\n",
    "\n",
    "    * Degrees\n",
    "    * Degree centrality  \n",
    "    * Closeness centrality  \n",
    "    * Betweenness centrality  \n",
    "    * Clustering coefficient\n",
    "\n",
    "Start with these. "
   ]
  },
  {
   "cell_type": "code",
   "execution_count": 16,
   "metadata": {},
   "outputs": [
    {
     "data": {
      "text/html": [
       "<div>\n",
       "<style>\n",
       "    .dataframe thead tr:only-child th {\n",
       "        text-align: right;\n",
       "    }\n",
       "\n",
       "    .dataframe thead th {\n",
       "        text-align: left;\n",
       "    }\n",
       "\n",
       "    .dataframe tbody tr th {\n",
       "        vertical-align: top;\n",
       "    }\n",
       "</style>\n",
       "<table border=\"1\" class=\"dataframe\">\n",
       "  <thead>\n",
       "    <tr style=\"text-align: right;\">\n",
       "      <th></th>\n",
       "      <th>Department</th>\n",
       "      <th>ManagementSalary</th>\n",
       "      <th>Degree</th>\n",
       "      <th>Degree_Cent</th>\n",
       "      <th>Closeness_Cent</th>\n",
       "      <th>Between_Cent</th>\n",
       "      <th>Cluster_Coeff</th>\n",
       "    </tr>\n",
       "  </thead>\n",
       "  <tbody>\n",
       "    <tr>\n",
       "      <th>0</th>\n",
       "      <td>1</td>\n",
       "      <td>0.0</td>\n",
       "      <td>44</td>\n",
       "      <td>0.043825</td>\n",
       "      <td>0.421991</td>\n",
       "      <td>0.001124</td>\n",
       "      <td>0.276423</td>\n",
       "    </tr>\n",
       "    <tr>\n",
       "      <th>1</th>\n",
       "      <td>1</td>\n",
       "      <td>NaN</td>\n",
       "      <td>52</td>\n",
       "      <td>0.051793</td>\n",
       "      <td>0.422360</td>\n",
       "      <td>0.001195</td>\n",
       "      <td>0.265306</td>\n",
       "    </tr>\n",
       "    <tr>\n",
       "      <th>2</th>\n",
       "      <td>21</td>\n",
       "      <td>NaN</td>\n",
       "      <td>95</td>\n",
       "      <td>0.094622</td>\n",
       "      <td>0.461490</td>\n",
       "      <td>0.006570</td>\n",
       "      <td>0.297803</td>\n",
       "    </tr>\n",
       "    <tr>\n",
       "      <th>3</th>\n",
       "      <td>21</td>\n",
       "      <td>1.0</td>\n",
       "      <td>71</td>\n",
       "      <td>0.070717</td>\n",
       "      <td>0.441663</td>\n",
       "      <td>0.001654</td>\n",
       "      <td>0.384910</td>\n",
       "    </tr>\n",
       "    <tr>\n",
       "      <th>4</th>\n",
       "      <td>21</td>\n",
       "      <td>1.0</td>\n",
       "      <td>96</td>\n",
       "      <td>0.095618</td>\n",
       "      <td>0.462152</td>\n",
       "      <td>0.005547</td>\n",
       "      <td>0.318691</td>\n",
       "    </tr>\n",
       "    <tr>\n",
       "      <th>5</th>\n",
       "      <td>25</td>\n",
       "      <td>NaN</td>\n",
       "      <td>171</td>\n",
       "      <td>0.170319</td>\n",
       "      <td>0.501484</td>\n",
       "      <td>0.030995</td>\n",
       "      <td>0.107002</td>\n",
       "    </tr>\n",
       "    <tr>\n",
       "      <th>6</th>\n",
       "      <td>25</td>\n",
       "      <td>1.0</td>\n",
       "      <td>115</td>\n",
       "      <td>0.114542</td>\n",
       "      <td>0.475805</td>\n",
       "      <td>0.012387</td>\n",
       "      <td>0.155183</td>\n",
       "    </tr>\n",
       "    <tr>\n",
       "      <th>7</th>\n",
       "      <td>14</td>\n",
       "      <td>0.0</td>\n",
       "      <td>72</td>\n",
       "      <td>0.071713</td>\n",
       "      <td>0.420156</td>\n",
       "      <td>0.002818</td>\n",
       "      <td>0.287785</td>\n",
       "    </tr>\n",
       "    <tr>\n",
       "      <th>8</th>\n",
       "      <td>14</td>\n",
       "      <td>NaN</td>\n",
       "      <td>37</td>\n",
       "      <td>0.036853</td>\n",
       "      <td>0.413151</td>\n",
       "      <td>0.000557</td>\n",
       "      <td>0.447059</td>\n",
       "    </tr>\n",
       "    <tr>\n",
       "      <th>9</th>\n",
       "      <td>14</td>\n",
       "      <td>0.0</td>\n",
       "      <td>40</td>\n",
       "      <td>0.039841</td>\n",
       "      <td>0.356196</td>\n",
       "      <td>0.000280</td>\n",
       "      <td>0.425320</td>\n",
       "    </tr>\n",
       "  </tbody>\n",
       "</table>\n",
       "</div>"
      ],
      "text/plain": [
       "   Department  ManagementSalary  Degree  Degree_Cent  Closeness_Cent  \\\n",
       "0           1               0.0      44     0.043825        0.421991   \n",
       "1           1               NaN      52     0.051793        0.422360   \n",
       "2          21               NaN      95     0.094622        0.461490   \n",
       "3          21               1.0      71     0.070717        0.441663   \n",
       "4          21               1.0      96     0.095618        0.462152   \n",
       "5          25               NaN     171     0.170319        0.501484   \n",
       "6          25               1.0     115     0.114542        0.475805   \n",
       "7          14               0.0      72     0.071713        0.420156   \n",
       "8          14               NaN      37     0.036853        0.413151   \n",
       "9          14               0.0      40     0.039841        0.356196   \n",
       "\n",
       "   Between_Cent  Cluster_Coeff  \n",
       "0      0.001124       0.276423  \n",
       "1      0.001195       0.265306  \n",
       "2      0.006570       0.297803  \n",
       "3      0.001654       0.384910  \n",
       "4      0.005547       0.318691  \n",
       "5      0.030995       0.107002  \n",
       "6      0.012387       0.155183  \n",
       "7      0.002818       0.287785  \n",
       "8      0.000557       0.447059  \n",
       "9      0.000280       0.425320  "
      ]
     },
     "execution_count": 16,
     "metadata": {},
     "output_type": "execute_result"
    }
   ],
   "source": [
    "G_df['Degree']         = pd.Series(G.degree())\n",
    "G_df['Degree_Cent']    = pd.Series(nx.degree_centrality(G))\n",
    "G_df['Closeness_Cent'] = pd.Series(nx.closeness_centrality(G))\n",
    "G_df['Between_Cent']   = pd.Series(nx.betweenness_centrality(G))\n",
    "G_df['Cluster_Coeff']  = pd.Series(nx.clustering(G))\n",
    "G_df.head(10)"
   ]
  },
  {
   "cell_type": "markdown",
   "metadata": {},
   "source": [
    "Now I need to predict whether the employees without salary data have a management salary. \n",
    "\n",
    "Try a few machine learning methods. Let's set up a train-test split of the data with salary info, though I will end up training on all of it. "
   ]
  },
  {
   "cell_type": "code",
   "execution_count": 17,
   "metadata": {
    "collapsed": true
   },
   "outputs": [],
   "source": [
    "from sklearn.model_selection import train_test_split\n",
    "from sklearn.preprocessing import MinMaxScaler"
   ]
  },
  {
   "cell_type": "code",
   "execution_count": 18,
   "metadata": {
    "collapsed": true
   },
   "outputs": [],
   "source": [
    "features = ['Department','Degree','Degree_Cent','Closeness_Cent','Between_Cent','Cluster_Coeff']\n",
    "\n",
    "# These will be our final training arrays\n",
    "X_sal        = G_df[~null_mask][features].values\n",
    "y_sal        = G_df[~null_mask]['ManagementSalary'].values.ravel()\n",
    "\n",
    "scaler = MinMaxScaler()\n",
    "scaler.fit(X_sal)\n",
    "X_sal_scaled = scaler.transform(X_sal)\n",
    "\n",
    "\n",
    "# We will make predictions on this array\n",
    "X_null        = G_df[null_mask][features].values\n",
    "X_null_scaled = scaler.transform(X_null)"
   ]
  },
  {
   "cell_type": "code",
   "execution_count": 19,
   "metadata": {
    "collapsed": true
   },
   "outputs": [],
   "source": [
    "# Generate smaller train and test arrays for picking a model\n",
    "X_train, X_test, y_train, y_test = train_test_split(X_sal,y_sal)\n",
    "X_train_scaled = scaler.transform(X_train)\n",
    "X_test_scaled  = scaler.transform(X_test)"
   ]
  },
  {
   "cell_type": "markdown",
   "metadata": {},
   "source": [
    "Linear regression. Unfortunately this doesn't really make sense for this data because the Department number is not necessarily ordinal. "
   ]
  },
  {
   "cell_type": "code",
   "execution_count": 20,
   "metadata": {},
   "outputs": [
    {
     "name": "stdout",
     "output_type": "stream",
     "text": [
      "Training score: 0.287093288628\n",
      "Testing score: 0.37129945111\n"
     ]
    }
   ],
   "source": [
    "from sklearn.linear_model import LinearRegression\n",
    "linreg = LinearRegression().fit(X_train_scaled,y_train)\n",
    "print('Training score:', linreg.score(X_train_scaled,y_train))\n",
    "print('Testing score:',  linreg.score(X_test_scaled ,y_test ))"
   ]
  },
  {
   "cell_type": "markdown",
   "metadata": {},
   "source": [
    "Let's try SVC linear kernel instead. This shows some improvement. Try a few more. "
   ]
  },
  {
   "cell_type": "code",
   "execution_count": 21,
   "metadata": {},
   "outputs": [
    {
     "name": "stdout",
     "output_type": "stream",
     "text": [
      "Training score: 0.882978723404\n",
      "Testing score: 0.867724867725\n"
     ]
    }
   ],
   "source": [
    "from sklearn.svm import SVC\n",
    "svm = SVC(kernel='linear',C=1).fit(X_train_scaled,y_train)\n",
    "print('Training score:', svm.score(X_train_scaled,y_train))\n",
    "print('Testing score:', svm.score(X_test_scaled  ,y_test ))"
   ]
  },
  {
   "cell_type": "code",
   "execution_count": 22,
   "metadata": {},
   "outputs": [
    {
     "name": "stdout",
     "output_type": "stream",
     "text": [
      "Training score: 0.858156028369\n",
      "Testing score: 0.835978835979\n"
     ]
    }
   ],
   "source": [
    "from sklearn.svm import SVC\n",
    "svm = SVC(kernel='rbf',C=1).fit(X_train_scaled,y_train)\n",
    "print('Training score:', svm.score(X_train_scaled,y_train))\n",
    "print('Testing score:', svm.score(X_test_scaled,y_test))"
   ]
  },
  {
   "cell_type": "markdown",
   "metadata": {},
   "source": [
    "Try random forest classifier."
   ]
  },
  {
   "cell_type": "code",
   "execution_count": 23,
   "metadata": {},
   "outputs": [
    {
     "name": "stdout",
     "output_type": "stream",
     "text": [
      "Training score: 0.989361702128\n",
      "Testing score: 0.936507936508\n"
     ]
    }
   ],
   "source": [
    "from sklearn.ensemble import RandomForestClassifier\n",
    "rf = RandomForestClassifier().fit(X_train_scaled,y_train)\n",
    "print('Training score:', rf.score(X_train_scaled,y_train))\n",
    "print('Testing score:', rf.score(  X_test_scaled,y_test ))"
   ]
  },
  {
   "cell_type": "markdown",
   "metadata": {},
   "source": [
    "The SVC models and the random forest are scoring about the same. I'll go with the linear SVC. Now I am going to use all of the entries with salary data as `X_train`."
   ]
  },
  {
   "cell_type": "code",
   "execution_count": 24,
   "metadata": {},
   "outputs": [
    {
     "name": "stdout",
     "output_type": "stream",
     "text": [
      "Training score: 0.864541832669\n"
     ]
    }
   ],
   "source": [
    "svm = SVC(kernel='rbf',C=1,probability=True).fit(X_sal_scaled,y_sal)\n",
    "print('Training score:', svm.score(X_sal_scaled,y_sal))"
   ]
  },
  {
   "cell_type": "code",
   "execution_count": 25,
   "metadata": {},
   "outputs": [
    {
     "data": {
      "text/plain": [
       "1     0.096478\n",
       "2     0.724637\n",
       "5     0.999990\n",
       "8     0.106418\n",
       "14    0.305011\n",
       "18    0.149189\n",
       "27    0.259458\n",
       "30    0.315322\n",
       "31    0.148597\n",
       "34    0.115289\n",
       "dtype: float64"
      ]
     },
     "execution_count": 25,
     "metadata": {},
     "output_type": "execute_result"
    }
   ],
   "source": [
    "final_proba = pd.Series(data = svm.predict_proba(X_null_scaled)[:,1],\n",
    "                        index = G_df[null_mask].index.values)\n",
    "final_proba.head(10)"
   ]
  },
  {
   "cell_type": "code",
   "execution_count": 26,
   "metadata": {
    "collapsed": true
   },
   "outputs": [],
   "source": [
    "def salary_predictions():\n",
    "    \n",
    "    # Your Code Here\n",
    "    \n",
    "    return final_proba"
   ]
  },
  {
   "cell_type": "markdown",
   "metadata": {},
   "source": [
    "### Part 2B - New Connections Prediction\n",
    "\n",
    "For the last part of this assignment, you will predict future connections between employees of the network. The future connections information has been loaded into the variable `future_connections`. The index is a tuple indicating a pair of nodes that currently do not have a connection, and the `Future Connection` column indicates if an edge between those two nodes will exist in the future, where a value of 1.0 indicates a future connection."
   ]
  },
  {
   "cell_type": "code",
   "execution_count": 27,
   "metadata": {
    "collapsed": true
   },
   "outputs": [],
   "source": [
    "future_connections = pd.read_csv('Future_Connections.csv', index_col=0, converters={0: eval})"
   ]
  },
  {
   "cell_type": "code",
   "execution_count": 28,
   "metadata": {},
   "outputs": [
    {
     "data": {
      "text/html": [
       "<div>\n",
       "<style>\n",
       "    .dataframe thead tr:only-child th {\n",
       "        text-align: right;\n",
       "    }\n",
       "\n",
       "    .dataframe thead th {\n",
       "        text-align: left;\n",
       "    }\n",
       "\n",
       "    .dataframe tbody tr th {\n",
       "        vertical-align: top;\n",
       "    }\n",
       "</style>\n",
       "<table border=\"1\" class=\"dataframe\">\n",
       "  <thead>\n",
       "    <tr style=\"text-align: right;\">\n",
       "      <th></th>\n",
       "      <th>Future Connection</th>\n",
       "    </tr>\n",
       "  </thead>\n",
       "  <tbody>\n",
       "    <tr>\n",
       "      <th>(6, 840)</th>\n",
       "      <td>0.0</td>\n",
       "    </tr>\n",
       "    <tr>\n",
       "      <th>(4, 197)</th>\n",
       "      <td>0.0</td>\n",
       "    </tr>\n",
       "    <tr>\n",
       "      <th>(620, 979)</th>\n",
       "      <td>0.0</td>\n",
       "    </tr>\n",
       "    <tr>\n",
       "      <th>(519, 872)</th>\n",
       "      <td>0.0</td>\n",
       "    </tr>\n",
       "    <tr>\n",
       "      <th>(382, 423)</th>\n",
       "      <td>0.0</td>\n",
       "    </tr>\n",
       "    <tr>\n",
       "      <th>(97, 226)</th>\n",
       "      <td>1.0</td>\n",
       "    </tr>\n",
       "    <tr>\n",
       "      <th>(349, 905)</th>\n",
       "      <td>0.0</td>\n",
       "    </tr>\n",
       "    <tr>\n",
       "      <th>(429, 860)</th>\n",
       "      <td>0.0</td>\n",
       "    </tr>\n",
       "    <tr>\n",
       "      <th>(309, 989)</th>\n",
       "      <td>0.0</td>\n",
       "    </tr>\n",
       "    <tr>\n",
       "      <th>(468, 880)</th>\n",
       "      <td>0.0</td>\n",
       "    </tr>\n",
       "  </tbody>\n",
       "</table>\n",
       "</div>"
      ],
      "text/plain": [
       "            Future Connection\n",
       "(6, 840)                  0.0\n",
       "(4, 197)                  0.0\n",
       "(620, 979)                0.0\n",
       "(519, 872)                0.0\n",
       "(382, 423)                0.0\n",
       "(97, 226)                 1.0\n",
       "(349, 905)                0.0\n",
       "(429, 860)                0.0\n",
       "(309, 989)                0.0\n",
       "(468, 880)                0.0"
      ]
     },
     "execution_count": 28,
     "metadata": {},
     "output_type": "execute_result"
    }
   ],
   "source": [
    "future_connections.head(10)"
   ]
  },
  {
   "cell_type": "code",
   "execution_count": 29,
   "metadata": {},
   "outputs": [
    {
     "data": {
      "text/plain": [
       "array([  0.,   1.,  nan])"
      ]
     },
     "execution_count": 29,
     "metadata": {},
     "output_type": "execute_result"
    }
   ],
   "source": [
    "future_connections['Future Connection'].unique()"
   ]
  },
  {
   "cell_type": "markdown",
   "metadata": {},
   "source": [
    "Using network `G` and `future_connections`, identify the edges in `future_connections` with missing values and predict whether or not these edges will have a future connection.\n",
    "\n",
    "To accomplish this, you will need to create a matrix of features for the edges found in `future_connections` using networkx, train a sklearn classifier on those edges in `future_connections` that have `Future Connection` data, and predict a probability of the edge being a future connection for those edges in `future_connections` where `Future Connection` is missing.\n",
    "\n",
    "\n",
    "\n",
    "Your predictions will need to be given as the probability of the corresponding edge being a future connection.\n",
    "\n",
    "The evaluation metric for this assignment is the Area Under the ROC Curve (AUC).\n",
    "\n",
    "Your grade will be based on the AUC score computed for your classifier. A model which with an AUC of 0.88 or higher will receive full points, and with an AUC of 0.82 or higher will pass (get 80% of the full points).\n",
    "\n",
    "Using your trained classifier, return a series of length 122112 with the data being the probability of the edge being a future connection, and the index being the edge as represented by a tuple of nodes.\n",
    "\n",
    "    Example:\n",
    "    \n",
    "        (107, 348)    0.35\n",
    "        (542, 751)    0.40\n",
    "        (20, 426)     0.55\n",
    "        (50, 989)     0.35\n",
    "                  ...\n",
    "        (939, 940)    0.15\n",
    "        (555, 905)    0.35\n",
    "        (75, 101)     0.65\n",
    "        Length: 122112, dtype: float64"
   ]
  },
  {
   "cell_type": "markdown",
   "metadata": {},
   "source": [
    "The first thing I need to do is split up the nodes for each edge into two columns. "
   ]
  },
  {
   "cell_type": "code",
   "execution_count": 30,
   "metadata": {},
   "outputs": [
    {
     "data": {
      "text/html": [
       "<div>\n",
       "<style>\n",
       "    .dataframe thead tr:only-child th {\n",
       "        text-align: right;\n",
       "    }\n",
       "\n",
       "    .dataframe thead th {\n",
       "        text-align: left;\n",
       "    }\n",
       "\n",
       "    .dataframe tbody tr th {\n",
       "        vertical-align: top;\n",
       "    }\n",
       "</style>\n",
       "<table border=\"1\" class=\"dataframe\">\n",
       "  <thead>\n",
       "    <tr style=\"text-align: right;\">\n",
       "      <th></th>\n",
       "      <th>Future Connection</th>\n",
       "      <th>Node1</th>\n",
       "      <th>Node2</th>\n",
       "    </tr>\n",
       "  </thead>\n",
       "  <tbody>\n",
       "    <tr>\n",
       "      <th>(6, 840)</th>\n",
       "      <td>0.0</td>\n",
       "      <td>6</td>\n",
       "      <td>840</td>\n",
       "    </tr>\n",
       "    <tr>\n",
       "      <th>(4, 197)</th>\n",
       "      <td>0.0</td>\n",
       "      <td>4</td>\n",
       "      <td>197</td>\n",
       "    </tr>\n",
       "    <tr>\n",
       "      <th>(620, 979)</th>\n",
       "      <td>0.0</td>\n",
       "      <td>620</td>\n",
       "      <td>979</td>\n",
       "    </tr>\n",
       "    <tr>\n",
       "      <th>(519, 872)</th>\n",
       "      <td>0.0</td>\n",
       "      <td>519</td>\n",
       "      <td>872</td>\n",
       "    </tr>\n",
       "    <tr>\n",
       "      <th>(382, 423)</th>\n",
       "      <td>0.0</td>\n",
       "      <td>382</td>\n",
       "      <td>423</td>\n",
       "    </tr>\n",
       "  </tbody>\n",
       "</table>\n",
       "</div>"
      ],
      "text/plain": [
       "            Future Connection  Node1  Node2\n",
       "(6, 840)                  0.0      6    840\n",
       "(4, 197)                  0.0      4    197\n",
       "(620, 979)                0.0    620    979\n",
       "(519, 872)                0.0    519    872\n",
       "(382, 423)                0.0    382    423"
      ]
     },
     "execution_count": 30,
     "metadata": {},
     "output_type": "execute_result"
    }
   ],
   "source": [
    "future_connections['Node1'] = [idx[0] for idx in future_connections.index.values]\n",
    "future_connections['Node2'] = [idx[1] for idx in future_connections.index.values]\n",
    "\n",
    "future_connections.head()"
   ]
  },
  {
   "cell_type": "markdown",
   "metadata": {},
   "source": [
    "Calculate features:\n",
    "\n",
    "* Number of common neighbors of $X$ and $Y$  \n",
    "* Jaccard coefficient  \n",
    "* Resource allocation of nodes $X$ and $Y$  \n",
    "* Adamic-adar index  \n",
    "* Preferential attachment  \n",
    "\n",
    "Leave out the community resources for now. "
   ]
  },
  {
   "cell_type": "code",
   "execution_count": 31,
   "metadata": {
    "collapsed": true
   },
   "outputs": [],
   "source": [
    "# Number of common neighbors\n",
    "future_connections['num_common_neighbors'] = [len(sorted(nx.common_neighbors(G,idx[0],idx[1]))) \n",
    "                                              for idx in future_connections.index.values]"
   ]
  },
  {
   "cell_type": "code",
   "execution_count": 32,
   "metadata": {
    "collapsed": true
   },
   "outputs": [],
   "source": [
    "# Jaccard coefficient\n",
    "preds = nx.jaccard_coefficient(G,future_connections.index.values)\n",
    "preds = list(preds)\n",
    "future_connections['jaccard'] = [pred[2] for pred in preds]"
   ]
  },
  {
   "cell_type": "code",
   "execution_count": 33,
   "metadata": {
    "collapsed": true
   },
   "outputs": [],
   "source": [
    "# Resource allocation\n",
    "preds = nx.resource_allocation_index(G,future_connections.index.values)\n",
    "preds = list(preds)\n",
    "future_connections['resource_allocation'] = [pred[2] for pred in preds]"
   ]
  },
  {
   "cell_type": "code",
   "execution_count": 34,
   "metadata": {
    "collapsed": true
   },
   "outputs": [],
   "source": [
    "# Adamic-adar index\n",
    "preds = nx.resource_allocation_index(G,future_connections.index.values)\n",
    "preds = list(preds)\n",
    "future_connections['adamic_adar'] = [pred[2] for pred in preds]"
   ]
  },
  {
   "cell_type": "code",
   "execution_count": 35,
   "metadata": {
    "collapsed": true
   },
   "outputs": [],
   "source": [
    "# Preferential attachment\n",
    "preds = nx.preferential_attachment(G,future_connections.index.values)\n",
    "preds = list(preds)\n",
    "future_connections['pref_attach'] = [pred[2] for pred in preds]"
   ]
  },
  {
   "cell_type": "code",
   "execution_count": 36,
   "metadata": {},
   "outputs": [
    {
     "data": {
      "text/html": [
       "<div>\n",
       "<style>\n",
       "    .dataframe thead tr:only-child th {\n",
       "        text-align: right;\n",
       "    }\n",
       "\n",
       "    .dataframe thead th {\n",
       "        text-align: left;\n",
       "    }\n",
       "\n",
       "    .dataframe tbody tr th {\n",
       "        vertical-align: top;\n",
       "    }\n",
       "</style>\n",
       "<table border=\"1\" class=\"dataframe\">\n",
       "  <thead>\n",
       "    <tr style=\"text-align: right;\">\n",
       "      <th></th>\n",
       "      <th>Future Connection</th>\n",
       "      <th>Node1</th>\n",
       "      <th>Node2</th>\n",
       "      <th>num_common_neighbors</th>\n",
       "      <th>jaccard</th>\n",
       "      <th>resource_allocation</th>\n",
       "      <th>adamic_adar</th>\n",
       "      <th>pref_attach</th>\n",
       "    </tr>\n",
       "  </thead>\n",
       "  <tbody>\n",
       "    <tr>\n",
       "      <th>(6, 840)</th>\n",
       "      <td>0.0</td>\n",
       "      <td>6</td>\n",
       "      <td>840</td>\n",
       "      <td>9</td>\n",
       "      <td>0.073770</td>\n",
       "      <td>0.136721</td>\n",
       "      <td>0.136721</td>\n",
       "      <td>2070</td>\n",
       "    </tr>\n",
       "    <tr>\n",
       "      <th>(4, 197)</th>\n",
       "      <td>0.0</td>\n",
       "      <td>4</td>\n",
       "      <td>197</td>\n",
       "      <td>2</td>\n",
       "      <td>0.015504</td>\n",
       "      <td>0.008437</td>\n",
       "      <td>0.008437</td>\n",
       "      <td>3552</td>\n",
       "    </tr>\n",
       "    <tr>\n",
       "      <th>(620, 979)</th>\n",
       "      <td>0.0</td>\n",
       "      <td>620</td>\n",
       "      <td>979</td>\n",
       "      <td>0</td>\n",
       "      <td>0.000000</td>\n",
       "      <td>0.000000</td>\n",
       "      <td>0.000000</td>\n",
       "      <td>28</td>\n",
       "    </tr>\n",
       "    <tr>\n",
       "      <th>(519, 872)</th>\n",
       "      <td>0.0</td>\n",
       "      <td>519</td>\n",
       "      <td>872</td>\n",
       "      <td>2</td>\n",
       "      <td>0.060606</td>\n",
       "      <td>0.039726</td>\n",
       "      <td>0.039726</td>\n",
       "      <td>299</td>\n",
       "    </tr>\n",
       "    <tr>\n",
       "      <th>(382, 423)</th>\n",
       "      <td>0.0</td>\n",
       "      <td>382</td>\n",
       "      <td>423</td>\n",
       "      <td>0</td>\n",
       "      <td>0.000000</td>\n",
       "      <td>0.000000</td>\n",
       "      <td>0.000000</td>\n",
       "      <td>205</td>\n",
       "    </tr>\n",
       "  </tbody>\n",
       "</table>\n",
       "</div>"
      ],
      "text/plain": [
       "            Future Connection  Node1  Node2  num_common_neighbors   jaccard  \\\n",
       "(6, 840)                  0.0      6    840                     9  0.073770   \n",
       "(4, 197)                  0.0      4    197                     2  0.015504   \n",
       "(620, 979)                0.0    620    979                     0  0.000000   \n",
       "(519, 872)                0.0    519    872                     2  0.060606   \n",
       "(382, 423)                0.0    382    423                     0  0.000000   \n",
       "\n",
       "            resource_allocation  adamic_adar  pref_attach  \n",
       "(6, 840)               0.136721     0.136721         2070  \n",
       "(4, 197)               0.008437     0.008437         3552  \n",
       "(620, 979)             0.000000     0.000000           28  \n",
       "(519, 872)             0.039726     0.039726          299  \n",
       "(382, 423)             0.000000     0.000000          205  "
      ]
     },
     "execution_count": 36,
     "metadata": {},
     "output_type": "execute_result"
    }
   ],
   "source": [
    "future_connections.head()"
   ]
  },
  {
   "cell_type": "markdown",
   "metadata": {},
   "source": [
    "Identify the null entries in Future Connection. "
   ]
  },
  {
   "cell_type": "code",
   "execution_count": 37,
   "metadata": {},
   "outputs": [
    {
     "data": {
      "text/html": [
       "<div>\n",
       "<style>\n",
       "    .dataframe thead tr:only-child th {\n",
       "        text-align: right;\n",
       "    }\n",
       "\n",
       "    .dataframe thead th {\n",
       "        text-align: left;\n",
       "    }\n",
       "\n",
       "    .dataframe tbody tr th {\n",
       "        vertical-align: top;\n",
       "    }\n",
       "</style>\n",
       "<table border=\"1\" class=\"dataframe\">\n",
       "  <thead>\n",
       "    <tr style=\"text-align: right;\">\n",
       "      <th></th>\n",
       "      <th>Future Connection</th>\n",
       "      <th>Node1</th>\n",
       "      <th>Node2</th>\n",
       "      <th>num_common_neighbors</th>\n",
       "      <th>jaccard</th>\n",
       "      <th>resource_allocation</th>\n",
       "      <th>adamic_adar</th>\n",
       "      <th>pref_attach</th>\n",
       "    </tr>\n",
       "  </thead>\n",
       "  <tbody>\n",
       "    <tr>\n",
       "      <th>(107, 348)</th>\n",
       "      <td>NaN</td>\n",
       "      <td>107</td>\n",
       "      <td>348</td>\n",
       "      <td>2</td>\n",
       "      <td>0.009009</td>\n",
       "      <td>0.025562</td>\n",
       "      <td>0.025562</td>\n",
       "      <td>884</td>\n",
       "    </tr>\n",
       "    <tr>\n",
       "      <th>(542, 751)</th>\n",
       "      <td>NaN</td>\n",
       "      <td>542</td>\n",
       "      <td>751</td>\n",
       "      <td>0</td>\n",
       "      <td>0.000000</td>\n",
       "      <td>0.000000</td>\n",
       "      <td>0.000000</td>\n",
       "      <td>126</td>\n",
       "    </tr>\n",
       "    <tr>\n",
       "      <th>(20, 426)</th>\n",
       "      <td>NaN</td>\n",
       "      <td>20</td>\n",
       "      <td>426</td>\n",
       "      <td>10</td>\n",
       "      <td>0.081967</td>\n",
       "      <td>0.082016</td>\n",
       "      <td>0.082016</td>\n",
       "      <td>4440</td>\n",
       "    </tr>\n",
       "    <tr>\n",
       "      <th>(50, 989)</th>\n",
       "      <td>NaN</td>\n",
       "      <td>50</td>\n",
       "      <td>989</td>\n",
       "      <td>0</td>\n",
       "      <td>0.000000</td>\n",
       "      <td>0.000000</td>\n",
       "      <td>0.000000</td>\n",
       "      <td>68</td>\n",
       "    </tr>\n",
       "    <tr>\n",
       "      <th>(942, 986)</th>\n",
       "      <td>NaN</td>\n",
       "      <td>942</td>\n",
       "      <td>986</td>\n",
       "      <td>0</td>\n",
       "      <td>0.000000</td>\n",
       "      <td>0.000000</td>\n",
       "      <td>0.000000</td>\n",
       "      <td>6</td>\n",
       "    </tr>\n",
       "    <tr>\n",
       "      <th>(324, 857)</th>\n",
       "      <td>NaN</td>\n",
       "      <td>324</td>\n",
       "      <td>857</td>\n",
       "      <td>0</td>\n",
       "      <td>0.000000</td>\n",
       "      <td>0.000000</td>\n",
       "      <td>0.000000</td>\n",
       "      <td>76</td>\n",
       "    </tr>\n",
       "    <tr>\n",
       "      <th>(13, 710)</th>\n",
       "      <td>NaN</td>\n",
       "      <td>13</td>\n",
       "      <td>710</td>\n",
       "      <td>6</td>\n",
       "      <td>0.031250</td>\n",
       "      <td>0.111676</td>\n",
       "      <td>0.111676</td>\n",
       "      <td>3600</td>\n",
       "    </tr>\n",
       "    <tr>\n",
       "      <th>(19, 271)</th>\n",
       "      <td>NaN</td>\n",
       "      <td>19</td>\n",
       "      <td>271</td>\n",
       "      <td>6</td>\n",
       "      <td>0.044776</td>\n",
       "      <td>0.050306</td>\n",
       "      <td>0.050306</td>\n",
       "      <td>5040</td>\n",
       "    </tr>\n",
       "    <tr>\n",
       "      <th>(319, 878)</th>\n",
       "      <td>NaN</td>\n",
       "      <td>319</td>\n",
       "      <td>878</td>\n",
       "      <td>0</td>\n",
       "      <td>0.000000</td>\n",
       "      <td>0.000000</td>\n",
       "      <td>0.000000</td>\n",
       "      <td>48</td>\n",
       "    </tr>\n",
       "    <tr>\n",
       "      <th>(659, 707)</th>\n",
       "      <td>NaN</td>\n",
       "      <td>659</td>\n",
       "      <td>707</td>\n",
       "      <td>0</td>\n",
       "      <td>0.000000</td>\n",
       "      <td>0.000000</td>\n",
       "      <td>0.000000</td>\n",
       "      <td>120</td>\n",
       "    </tr>\n",
       "  </tbody>\n",
       "</table>\n",
       "</div>"
      ],
      "text/plain": [
       "            Future Connection  Node1  Node2  num_common_neighbors   jaccard  \\\n",
       "(107, 348)                NaN    107    348                     2  0.009009   \n",
       "(542, 751)                NaN    542    751                     0  0.000000   \n",
       "(20, 426)                 NaN     20    426                    10  0.081967   \n",
       "(50, 989)                 NaN     50    989                     0  0.000000   \n",
       "(942, 986)                NaN    942    986                     0  0.000000   \n",
       "(324, 857)                NaN    324    857                     0  0.000000   \n",
       "(13, 710)                 NaN     13    710                     6  0.031250   \n",
       "(19, 271)                 NaN     19    271                     6  0.044776   \n",
       "(319, 878)                NaN    319    878                     0  0.000000   \n",
       "(659, 707)                NaN    659    707                     0  0.000000   \n",
       "\n",
       "            resource_allocation  adamic_adar  pref_attach  \n",
       "(107, 348)             0.025562     0.025562          884  \n",
       "(542, 751)             0.000000     0.000000          126  \n",
       "(20, 426)              0.082016     0.082016         4440  \n",
       "(50, 989)              0.000000     0.000000           68  \n",
       "(942, 986)             0.000000     0.000000            6  \n",
       "(324, 857)             0.000000     0.000000           76  \n",
       "(13, 710)              0.111676     0.111676         3600  \n",
       "(19, 271)              0.050306     0.050306         5040  \n",
       "(319, 878)             0.000000     0.000000           48  \n",
       "(659, 707)             0.000000     0.000000          120  "
      ]
     },
     "execution_count": 37,
     "metadata": {},
     "output_type": "execute_result"
    }
   ],
   "source": [
    "null_mask = future_connections['Future Connection'].isnull()\n",
    "future_connections[null_mask].head(10)"
   ]
  },
  {
   "cell_type": "code",
   "execution_count": 38,
   "metadata": {},
   "outputs": [],
   "source": [
    "features = ['Node1','Node2','jaccard','resource_allocation','num_common_neighbors','adamic_adar']\n",
    "\n",
    "# These will be our final training arrays\n",
    "X        = future_connections[~null_mask][features].values\n",
    "y        = future_connections[~null_mask]['Future Connection'].values.ravel()\n",
    "\n",
    "scaler = MinMaxScaler()\n",
    "scaler.fit(X)\n",
    "X_scaled = scaler.transform(X)\n",
    "\n",
    "\n",
    "# We will make predictions on this array\n",
    "X_null        = future_connections[null_mask][features].values\n",
    "X_null_scaled = scaler.transform(X_null)"
   ]
  },
  {
   "cell_type": "code",
   "execution_count": 39,
   "metadata": {
    "collapsed": true
   },
   "outputs": [],
   "source": [
    "# Generate smaller train and test arrays for picking a model\n",
    "X_train, X_test, y_train, y_test = train_test_split(X,y)\n",
    "X_train_scaled = scaler.transform(X_train)\n",
    "X_test_scaled  = scaler.transform(X_test)"
   ]
  },
  {
   "cell_type": "markdown",
   "metadata": {},
   "source": [
    "Linear regression. Not very good."
   ]
  },
  {
   "cell_type": "code",
   "execution_count": 40,
   "metadata": {},
   "outputs": [
    {
     "name": "stdout",
     "output_type": "stream",
     "text": [
      "Training score: 0.447560024965\n",
      "Testing score: 0.44790154254\n"
     ]
    }
   ],
   "source": [
    "from sklearn.linear_model import LinearRegression\n",
    "linreg = LinearRegression().fit(X_train_scaled,y_train)\n",
    "print('Training score:', linreg.score(X_train_scaled,y_train))\n",
    "print('Testing score:',  linreg.score(X_test_scaled ,y_test ))"
   ]
  },
  {
   "cell_type": "markdown",
   "metadata": {},
   "source": [
    "Let's try SVC linear kernel instead.\n",
    "These are taking forever so I'm going to skip these."
   ]
  },
  {
   "cell_type": "code",
   "execution_count": 41,
   "metadata": {},
   "outputs": [],
   "source": [
    "# from sklearn.svm import SVC\n",
    "# svm = SVC(kernel='linear',C=1).fit(X_train_scaled,y_train)\n",
    "# print('Training score:', svm.score(X_train_scaled,y_train))\n",
    "# print('Testing score:', svm.score(X_test_scaled  ,y_test ))"
   ]
  },
  {
   "cell_type": "code",
   "execution_count": 42,
   "metadata": {},
   "outputs": [],
   "source": [
    "# from sklearn.svm import SVC\n",
    "# svm = SVC(kernel='rbf',C=1).fit(X_train_scaled,y_train)\n",
    "# print('Training score:', svm.score(X_train_scaled,y_train))\n",
    "# print('Testing score:', svm.score(X_test_scaled,y_test))"
   ]
  },
  {
   "cell_type": "markdown",
   "metadata": {},
   "source": [
    "Try random forest classifier. Wow, this has a really high score! Go with random forest."
   ]
  },
  {
   "cell_type": "code",
   "execution_count": 43,
   "metadata": {},
   "outputs": [
    {
     "name": "stdout",
     "output_type": "stream",
     "text": [
      "Training score: 0.993954504095\n",
      "Testing score: 0.955177760307\n"
     ]
    }
   ],
   "source": [
    "from sklearn.ensemble import RandomForestClassifier\n",
    "rf = RandomForestClassifier().fit(X_train_scaled,y_train)\n",
    "print('Training score:', rf.score(X_train_scaled,y_train))\n",
    "print('Testing score:', rf.score(  X_test_scaled,y_test ))"
   ]
  },
  {
   "cell_type": "code",
   "execution_count": 47,
   "metadata": {},
   "outputs": [
    {
     "name": "stdout",
     "output_type": "stream",
     "text": [
      "Training score: 0.993686089743\n"
     ]
    }
   ],
   "source": [
    "rf = RandomForestClassifier().fit(X_scaled,y)\n",
    "print('Training score:', rf.score(X_scaled,y))"
   ]
  },
  {
   "cell_type": "code",
   "execution_count": 49,
   "metadata": {},
   "outputs": [
    {
     "data": {
      "text/plain": [
       "(107, 348)    0.0\n",
       "(542, 751)    0.0\n",
       "(20, 426)     0.6\n",
       "(50, 989)     0.0\n",
       "(942, 986)    0.0\n",
       "(324, 857)    0.0\n",
       "(13, 710)     0.2\n",
       "(19, 271)     0.1\n",
       "(319, 878)    0.0\n",
       "(659, 707)    0.0\n",
       "dtype: float64"
      ]
     },
     "execution_count": 49,
     "metadata": {},
     "output_type": "execute_result"
    }
   ],
   "source": [
    "final_proba_2 = pd.Series(data = rf.predict_proba(X_null_scaled)[:,1],\n",
    "                        index = future_connections[null_mask].index.values)\n",
    "final_proba_2.head(10)"
   ]
  },
  {
   "cell_type": "code",
   "execution_count": 50,
   "metadata": {
    "collapsed": true
   },
   "outputs": [],
   "source": [
    "def new_connections_predictions():\n",
    "    \n",
    "    # Your Code Here\n",
    "    \n",
    "    return final_proba_2"
   ]
  },
  {
   "cell_type": "code",
   "execution_count": null,
   "metadata": {
    "collapsed": true
   },
   "outputs": [],
   "source": []
  }
 ],
 "metadata": {
  "coursera": {
   "course_slug": "python-social-network-analysis",
   "graded_item_id": "BGNwe",
   "launcher_item_id": "rMoj0",
   "part_id": "E2zRG"
  },
  "kernelspec": {
   "display_name": "Python 3",
   "language": "python",
   "name": "python3"
  },
  "language_info": {
   "codemirror_mode": {
    "name": "ipython",
    "version": 3
   },
   "file_extension": ".py",
   "mimetype": "text/x-python",
   "name": "python",
   "nbconvert_exporter": "python",
   "pygments_lexer": "ipython3",
   "version": "3.6.2"
  }
 },
 "nbformat": 4,
 "nbformat_minor": 2
}
